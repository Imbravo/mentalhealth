{
 "cells": [
  {
   "cell_type": "code",
   "execution_count": 81,
   "metadata": {
    "collapsed": true,
    "pycharm": {
     "name": "#%%\n"
    }
   },
   "outputs": [],
   "source": [
    "import boto3\n",
    "import pandas as pd\n",
    "import numpy as np\n",
    "import io"
   ]
  },
  {
   "cell_type": "code",
   "execution_count": 82,
   "outputs": [
    {
     "name": "stdout",
     "output_type": "stream",
     "text": [
      "saludmental\n",
      "answer.csv\n",
      "question.csv\n",
      "survey.csv\n"
     ]
    }
   ],
   "source": [
    "client = boto3.client(\"s3\")\n",
    "s3 = boto3.resource('s3')\n",
    "path = 's3://saludmental/question.csv'\n",
    "\n",
    "for bucket in s3.buckets.all():\n",
    "    print(bucket.name)\n",
    "    my_bucket = s3.Bucket(bucket.name)\n",
    "    for file in my_bucket.objects.all():\n",
    "        print(file.key)"
   ],
   "metadata": {
    "collapsed": false,
    "pycharm": {
     "name": "#%%\n"
    }
   }
  },
  {
   "cell_type": "code",
   "execution_count": 83,
   "outputs": [
    {
     "name": "stdout",
     "output_type": "stream",
     "text": [
      "                                          questiontext  questionid\n",
      "0                                    What is your age?           1\n",
      "1                                 What is your gender?           2\n",
      "2                         What country do you live in?           3\n",
      "3    If you live in the United States, which state ...           4\n",
      "4                               Are you self-employed?           5\n",
      "..                                                 ...         ...\n",
      "100  Do you think that team members/co-workers woul...         114\n",
      "101  If yes, what condition(s) have you been diagno...         115\n",
      "102  If maybe, what condition(s) do you believe you...         116\n",
      "103  Which of the following best describes your wor...         117\n",
      "104                              Do you work remotely?         118\n",
      "\n",
      "[105 rows x 2 columns]\n"
     ]
    }
   ],
   "source": [
    "obj = client.get_object(Bucket='saludmental', Key='question.csv')\n",
    "response = obj['Body']\n",
    "question = pd.read_csv(response)\n",
    "print(question)"
   ],
   "metadata": {
    "collapsed": false,
    "pycharm": {
     "name": "#%%\n"
    }
   }
  },
  {
   "cell_type": "code",
   "execution_count": 84,
   "outputs": [
    {
     "name": "stdout",
     "output_type": "stream",
     "text": [
      "   SurveyID                    Description\n",
      "0      2014  mental health survey for 2014\n",
      "1      2016  mental health survey for 2016\n",
      "2      2017  mental health survey for 2017\n",
      "3      2018  mental health survey for 2018\n",
      "4      2019  mental health survey for 2019\n"
     ]
    }
   ],
   "source": [
    "obj = client.get_object(Bucket='saludmental', Key='survey.csv')\n",
    "response = obj['Body']\n",
    "survey = pd.read_csv(response)\n",
    "print(survey)"
   ],
   "metadata": {
    "collapsed": false,
    "pycharm": {
     "name": "#%%\n"
    }
   }
  },
  {
   "cell_type": "code",
   "execution_count": 85,
   "outputs": [
    {
     "name": "stdout",
     "output_type": "stream",
     "text": [
      "                AnswerText  SurveyID  UserID  QuestionID\n",
      "0                       37      2014       1           1\n",
      "1                       44      2014       2           1\n",
      "2                       32      2014       3           1\n",
      "3                       31      2014       4           1\n",
      "4                       31      2014       5           1\n",
      "...                    ...       ...     ...         ...\n",
      "236893               Other      2016    2689         117\n",
      "236894             Support      2016    2690         117\n",
      "236895  Back-end Developer      2016    2691         117\n",
      "236896     DevOps/SysAdmin      2016    2692         117\n",
      "236897               Other      2016    2693         117\n",
      "\n",
      "[236898 rows x 4 columns]\n"
     ]
    }
   ],
   "source": [
    "obj = client.get_object(Bucket='saludmental', Key='answer.csv')\n",
    "response = obj['Body']\n",
    "answer = pd.read_csv(response)\n",
    "print(answer)"
   ],
   "metadata": {
    "collapsed": false,
    "pycharm": {
     "name": "#%%\n"
    }
   }
  },
  {
   "cell_type": "markdown",
   "source": [
    "## INICIO DE EDA"
   ],
   "metadata": {
    "collapsed": false,
    "pycharm": {
     "name": "#%% md\n"
    }
   }
  },
  {
   "cell_type": "markdown",
   "source": [
    "## Question table"
   ],
   "metadata": {
    "collapsed": false,
    "pycharm": {
     "name": "#%% md\n"
    }
   }
  },
  {
   "cell_type": "code",
   "execution_count": 86,
   "outputs": [
    {
     "data": {
      "text/plain": "                                          questiontext  questionid\n0                                    What is your age?           1\n1                                 What is your gender?           2\n2                         What country do you live in?           3\n3    If you live in the United States, which state ...           4\n4                               Are you self-employed?           5\n..                                                 ...         ...\n100  Do you think that team members/co-workers woul...         114\n101  If yes, what condition(s) have you been diagno...         115\n102  If maybe, what condition(s) do you believe you...         116\n103  Which of the following best describes your wor...         117\n104                              Do you work remotely?         118\n\n[105 rows x 2 columns]",
      "text/html": "<div>\n<style scoped>\n    .dataframe tbody tr th:only-of-type {\n        vertical-align: middle;\n    }\n\n    .dataframe tbody tr th {\n        vertical-align: top;\n    }\n\n    .dataframe thead th {\n        text-align: right;\n    }\n</style>\n<table border=\"1\" class=\"dataframe\">\n  <thead>\n    <tr style=\"text-align: right;\">\n      <th></th>\n      <th>questiontext</th>\n      <th>questionid</th>\n    </tr>\n  </thead>\n  <tbody>\n    <tr>\n      <th>0</th>\n      <td>What is your age?</td>\n      <td>1</td>\n    </tr>\n    <tr>\n      <th>1</th>\n      <td>What is your gender?</td>\n      <td>2</td>\n    </tr>\n    <tr>\n      <th>2</th>\n      <td>What country do you live in?</td>\n      <td>3</td>\n    </tr>\n    <tr>\n      <th>3</th>\n      <td>If you live in the United States, which state ...</td>\n      <td>4</td>\n    </tr>\n    <tr>\n      <th>4</th>\n      <td>Are you self-employed?</td>\n      <td>5</td>\n    </tr>\n    <tr>\n      <th>...</th>\n      <td>...</td>\n      <td>...</td>\n    </tr>\n    <tr>\n      <th>100</th>\n      <td>Do you think that team members/co-workers woul...</td>\n      <td>114</td>\n    </tr>\n    <tr>\n      <th>101</th>\n      <td>If yes, what condition(s) have you been diagno...</td>\n      <td>115</td>\n    </tr>\n    <tr>\n      <th>102</th>\n      <td>If maybe, what condition(s) do you believe you...</td>\n      <td>116</td>\n    </tr>\n    <tr>\n      <th>103</th>\n      <td>Which of the following best describes your wor...</td>\n      <td>117</td>\n    </tr>\n    <tr>\n      <th>104</th>\n      <td>Do you work remotely?</td>\n      <td>118</td>\n    </tr>\n  </tbody>\n</table>\n<p>105 rows × 2 columns</p>\n</div>"
     },
     "execution_count": 86,
     "metadata": {},
     "output_type": "execute_result"
    }
   ],
   "source": [
    "question"
   ],
   "metadata": {
    "collapsed": false,
    "pycharm": {
     "name": "#%%\n"
    }
   }
  },
  {
   "cell_type": "code",
   "execution_count": 87,
   "outputs": [
    {
     "name": "stdout",
     "output_type": "stream",
     "text": [
      "El numero de preguntas en de las encuestas es de:  105\n"
     ]
    }
   ],
   "source": [
    "print(\"El numero de preguntas en de las encuestas es de: \", len(question))"
   ],
   "metadata": {
    "collapsed": false,
    "pycharm": {
     "name": "#%%\n"
    }
   }
  },
  {
   "cell_type": "markdown",
   "source": [
    "# Survey table"
   ],
   "metadata": {
    "collapsed": false,
    "pycharm": {
     "name": "#%% md\n"
    }
   }
  },
  {
   "cell_type": "code",
   "execution_count": 88,
   "outputs": [
    {
     "data": {
      "text/plain": "   SurveyID                    Description\n0      2014  mental health survey for 2014\n1      2016  mental health survey for 2016\n2      2017  mental health survey for 2017\n3      2018  mental health survey for 2018\n4      2019  mental health survey for 2019",
      "text/html": "<div>\n<style scoped>\n    .dataframe tbody tr th:only-of-type {\n        vertical-align: middle;\n    }\n\n    .dataframe tbody tr th {\n        vertical-align: top;\n    }\n\n    .dataframe thead th {\n        text-align: right;\n    }\n</style>\n<table border=\"1\" class=\"dataframe\">\n  <thead>\n    <tr style=\"text-align: right;\">\n      <th></th>\n      <th>SurveyID</th>\n      <th>Description</th>\n    </tr>\n  </thead>\n  <tbody>\n    <tr>\n      <th>0</th>\n      <td>2014</td>\n      <td>mental health survey for 2014</td>\n    </tr>\n    <tr>\n      <th>1</th>\n      <td>2016</td>\n      <td>mental health survey for 2016</td>\n    </tr>\n    <tr>\n      <th>2</th>\n      <td>2017</td>\n      <td>mental health survey for 2017</td>\n    </tr>\n    <tr>\n      <th>3</th>\n      <td>2018</td>\n      <td>mental health survey for 2018</td>\n    </tr>\n    <tr>\n      <th>4</th>\n      <td>2019</td>\n      <td>mental health survey for 2019</td>\n    </tr>\n  </tbody>\n</table>\n</div>"
     },
     "execution_count": 88,
     "metadata": {},
     "output_type": "execute_result"
    }
   ],
   "source": [
    "survey"
   ],
   "metadata": {
    "collapsed": false,
    "pycharm": {
     "name": "#%%\n"
    }
   }
  },
  {
   "cell_type": "markdown",
   "source": [
    "SurveyID representa el año de la encuesta realizada y sirve de ID."
   ],
   "metadata": {
    "collapsed": false,
    "pycharm": {
     "name": "#%% md\n"
    }
   }
  },
  {
   "cell_type": "markdown",
   "source": [
    "## Answer table"
   ],
   "metadata": {
    "collapsed": false,
    "pycharm": {
     "name": "#%% md\n"
    }
   }
  },
  {
   "cell_type": "code",
   "execution_count": 89,
   "outputs": [
    {
     "data": {
      "text/plain": "                AnswerText  SurveyID  UserID  QuestionID\n0                       37      2014       1           1\n1                       44      2014       2           1\n2                       32      2014       3           1\n3                       31      2014       4           1\n4                       31      2014       5           1\n...                    ...       ...     ...         ...\n236893               Other      2016    2689         117\n236894             Support      2016    2690         117\n236895  Back-end Developer      2016    2691         117\n236896     DevOps/SysAdmin      2016    2692         117\n236897               Other      2016    2693         117\n\n[236898 rows x 4 columns]",
      "text/html": "<div>\n<style scoped>\n    .dataframe tbody tr th:only-of-type {\n        vertical-align: middle;\n    }\n\n    .dataframe tbody tr th {\n        vertical-align: top;\n    }\n\n    .dataframe thead th {\n        text-align: right;\n    }\n</style>\n<table border=\"1\" class=\"dataframe\">\n  <thead>\n    <tr style=\"text-align: right;\">\n      <th></th>\n      <th>AnswerText</th>\n      <th>SurveyID</th>\n      <th>UserID</th>\n      <th>QuestionID</th>\n    </tr>\n  </thead>\n  <tbody>\n    <tr>\n      <th>0</th>\n      <td>37</td>\n      <td>2014</td>\n      <td>1</td>\n      <td>1</td>\n    </tr>\n    <tr>\n      <th>1</th>\n      <td>44</td>\n      <td>2014</td>\n      <td>2</td>\n      <td>1</td>\n    </tr>\n    <tr>\n      <th>2</th>\n      <td>32</td>\n      <td>2014</td>\n      <td>3</td>\n      <td>1</td>\n    </tr>\n    <tr>\n      <th>3</th>\n      <td>31</td>\n      <td>2014</td>\n      <td>4</td>\n      <td>1</td>\n    </tr>\n    <tr>\n      <th>4</th>\n      <td>31</td>\n      <td>2014</td>\n      <td>5</td>\n      <td>1</td>\n    </tr>\n    <tr>\n      <th>...</th>\n      <td>...</td>\n      <td>...</td>\n      <td>...</td>\n      <td>...</td>\n    </tr>\n    <tr>\n      <th>236893</th>\n      <td>Other</td>\n      <td>2016</td>\n      <td>2689</td>\n      <td>117</td>\n    </tr>\n    <tr>\n      <th>236894</th>\n      <td>Support</td>\n      <td>2016</td>\n      <td>2690</td>\n      <td>117</td>\n    </tr>\n    <tr>\n      <th>236895</th>\n      <td>Back-end Developer</td>\n      <td>2016</td>\n      <td>2691</td>\n      <td>117</td>\n    </tr>\n    <tr>\n      <th>236896</th>\n      <td>DevOps/SysAdmin</td>\n      <td>2016</td>\n      <td>2692</td>\n      <td>117</td>\n    </tr>\n    <tr>\n      <th>236897</th>\n      <td>Other</td>\n      <td>2016</td>\n      <td>2693</td>\n      <td>117</td>\n    </tr>\n  </tbody>\n</table>\n<p>236898 rows × 4 columns</p>\n</div>"
     },
     "execution_count": 89,
     "metadata": {},
     "output_type": "execute_result"
    }
   ],
   "source": [
    "answer"
   ],
   "metadata": {
    "collapsed": false,
    "pycharm": {
     "name": "#%%\n"
    }
   }
  },
  {
   "cell_type": "code",
   "execution_count": 90,
   "outputs": [
    {
     "data": {
      "text/plain": "4218"
     },
     "execution_count": 90,
     "metadata": {},
     "output_type": "execute_result"
    }
   ],
   "source": [
    "answer.UserID.nunique()"
   ],
   "metadata": {
    "collapsed": false,
    "pycharm": {
     "name": "#%%\n"
    }
   }
  },
  {
   "cell_type": "code",
   "execution_count": 91,
   "outputs": [
    {
     "data": {
      "text/plain": "<Figure size 640x480 with 1 Axes>",
      "image/png": "[encoded data removed]"
     },
     "metadata": {},
     "output_type": "display_data"
    }
   ],
   "source": [
    "dist_survey = answer.groupby('SurveyID')['UserID'].count().plot.bar(title='Número de completación de formularios por el año')"
   ],
   "metadata": {
    "collapsed": false,
    "pycharm": {
     "name": "#%%\n"
    }
   }
  },
  {
   "cell_type": "code",
   "execution_count": 92,
   "outputs": [
    {
     "data": {
      "text/plain": "                AnswerText  SurveyID  UserID  QuestionID  \\\n0                       37      2014       1           1   \n1                       44      2014       2           1   \n2                       32      2014       3           1   \n3                       31      2014       4           1   \n4                       31      2014       5           1   \n...                    ...       ...     ...         ...   \n236893               Other      2016    2689         117   \n236894             Support      2016    2690         117   \n236895  Back-end Developer      2016    2691         117   \n236896     DevOps/SysAdmin      2016    2692         117   \n236897               Other      2016    2693         117   \n\n                                             questiontext  questionid  \n0                                       What is your age?           1  \n1                                       What is your age?           1  \n2                                       What is your age?           1  \n3                                       What is your age?           1  \n4                                       What is your age?           1  \n...                                                   ...         ...  \n236893  Which of the following best describes your wor...         117  \n236894  Which of the following best describes your wor...         117  \n236895  Which of the following best describes your wor...         117  \n236896  Which of the following best describes your wor...         117  \n236897  Which of the following best describes your wor...         117  \n\n[236898 rows x 6 columns]",
      "text/html": "<div>\n<style scoped>\n    .dataframe tbody tr th:only-of-type {\n        vertical-align: middle;\n    }\n\n    .dataframe tbody tr th {\n        vertical-align: top;\n    }\n\n    .dataframe thead th {\n        text-align: right;\n    }\n</style>\n<table border=\"1\" class=\"dataframe\">\n  <thead>\n    <tr style=\"text-align: right;\">\n      <th></th>\n      <th>AnswerText</th>\n      <th>SurveyID</th>\n      <th>UserID</th>\n      <th>QuestionID</th>\n      <th>questiontext</th>\n      <th>questionid</th>\n    </tr>\n  </thead>\n  <tbody>\n    <tr>\n      <th>0</th>\n      <td>37</td>\n      <td>2014</td>\n      <td>1</td>\n      <td>1</td>\n      <td>What is your age?</td>\n      <td>1</td>\n    </tr>\n    <tr>\n      <th>1</th>\n      <td>44</td>\n      <td>2014</td>\n      <td>2</td>\n      <td>1</td>\n      <td>What is your age?</td>\n      <td>1</td>\n    </tr>\n    <tr>\n      <th>2</th>\n      <td>32</td>\n      <td>2014</td>\n      <td>3</td>\n      <td>1</td>\n      <td>What is your age?</td>\n      <td>1</td>\n    </tr>\n    <tr>\n      <th>3</th>\n      <td>31</td>\n      <td>2014</td>\n      <td>4</td>\n      <td>1</td>\n      <td>What is your age?</td>\n      <td>1</td>\n    </tr>\n    <tr>\n      <th>4</th>\n      <td>31</td>\n      <td>2014</td>\n      <td>5</td>\n      <td>1</td>\n      <td>What is your age?</td>\n      <td>1</td>\n    </tr>\n    <tr>\n      <th>...</th>\n      <td>...</td>\n      <td>...</td>\n      <td>...</td>\n      <td>...</td>\n      <td>...</td>\n      <td>...</td>\n    </tr>\n    <tr>\n      <th>236893</th>\n      <td>Other</td>\n      <td>2016</td>\n      <td>2689</td>\n      <td>117</td>\n      <td>Which of the following best describes your wor...</td>\n      <td>117</td>\n    </tr>\n    <tr>\n      <th>236894</th>\n      <td>Support</td>\n      <td>2016</td>\n      <td>2690</td>\n      <td>117</td>\n      <td>Which of the following best describes your wor...</td>\n      <td>117</td>\n    </tr>\n    <tr>\n      <th>236895</th>\n      <td>Back-end Developer</td>\n      <td>2016</td>\n      <td>2691</td>\n      <td>117</td>\n      <td>Which of the following best describes your wor...</td>\n      <td>117</td>\n    </tr>\n    <tr>\n      <th>236896</th>\n      <td>DevOps/SysAdmin</td>\n      <td>2016</td>\n      <td>2692</td>\n      <td>117</td>\n      <td>Which of the following best describes your wor...</td>\n      <td>117</td>\n    </tr>\n    <tr>\n      <th>236897</th>\n      <td>Other</td>\n      <td>2016</td>\n      <td>2693</td>\n      <td>117</td>\n      <td>Which of the following best describes your wor...</td>\n      <td>117</td>\n    </tr>\n  </tbody>\n</table>\n<p>236898 rows × 6 columns</p>\n</div>"
     },
     "execution_count": 92,
     "metadata": {},
     "output_type": "execute_result"
    }
   ],
   "source": [
    "df_join = pd.merge(answer,question,left_on='QuestionID', right_on='questionid')\n",
    "df_join"
   ],
   "metadata": {
    "collapsed": false,
    "pycharm": {
     "name": "#%%\n"
    }
   }
  },
  {
   "cell_type": "code",
   "execution_count": 93,
   "outputs": [
    {
     "data": {
      "text/plain": "AnswerText      object\nSurveyID         int64\nUserID           int64\nQuestionID       int64\nquestiontext    object\nquestionid       int64\ndtype: object"
     },
     "execution_count": 93,
     "metadata": {},
     "output_type": "execute_result"
    }
   ],
   "source": [
    "df_join.dtypes"
   ],
   "metadata": {
    "collapsed": false,
    "pycharm": {
     "name": "#%%\n"
    }
   }
  },
  {
   "cell_type": "code",
   "execution_count": 94,
   "outputs": [
    {
     "data": {
      "text/plain": "    AnswerText  SurveyID\n6           18         9\n7           19        20\n8           20        17\n9           21        39\n10          22        74\n11          23       107\n12          24       128\n13          25       147\n14          26       194\n15          27       197\n16          28       220\n17          29       229\n19          30       250\n20          31       223\n21          32       227\n24          33       201\n25          34       202\n26          35       201\n27          36       147\n28          37       184\n29          38       160\n30          39       137\n31          40       122\n32          41        88\n33          42       100\n34          43        82\n35          44        68\n36          45        74\n37          46        58\n38          47        38\n39          48        29\n40          49        36\n42          50        30\n43          51        22\n44          52        17\n45          53        15\n46          54        17\n47          55        22\n48          56        13\n49          57        14\n50          58         5\n51          59         6\n52          60         5\n53          61         7\n54          62         3\n55          63         5\n56          64         3\n57          65         3\n58          66         2\n59          67         2\n60          70         1\n61          72         1\n62          74         1\n64          99         1",
      "text/html": "<div>\n<style scoped>\n    .dataframe tbody tr th:only-of-type {\n        vertical-align: middle;\n    }\n\n    .dataframe tbody tr th {\n        vertical-align: top;\n    }\n\n    .dataframe thead th {\n        text-align: right;\n    }\n</style>\n<table border=\"1\" class=\"dataframe\">\n  <thead>\n    <tr style=\"text-align: right;\">\n      <th></th>\n      <th>AnswerText</th>\n      <th>SurveyID</th>\n    </tr>\n  </thead>\n  <tbody>\n    <tr>\n      <th>6</th>\n      <td>18</td>\n      <td>9</td>\n    </tr>\n    <tr>\n      <th>7</th>\n      <td>19</td>\n      <td>20</td>\n    </tr>\n    <tr>\n      <th>8</th>\n      <td>20</td>\n      <td>17</td>\n    </tr>\n    <tr>\n      <th>9</th>\n      <td>21</td>\n      <td>39</td>\n    </tr>\n    <tr>\n      <th>10</th>\n      <td>22</td>\n      <td>74</td>\n    </tr>\n    <tr>\n      <th>11</th>\n      <td>23</td>\n      <td>107</td>\n    </tr>\n    <tr>\n      <th>12</th>\n      <td>24</td>\n      <td>128</td>\n    </tr>\n    <tr>\n      <th>13</th>\n      <td>25</td>\n      <td>147</td>\n    </tr>\n    <tr>\n      <th>14</th>\n      <td>26</td>\n      <td>194</td>\n    </tr>\n    <tr>\n      <th>15</th>\n      <td>27</td>\n      <td>197</td>\n    </tr>\n    <tr>\n      <th>16</th>\n      <td>28</td>\n      <td>220</td>\n    </tr>\n    <tr>\n      <th>17</th>\n      <td>29</td>\n      <td>229</td>\n    </tr>\n    <tr>\n      <th>19</th>\n      <td>30</td>\n      <td>250</td>\n    </tr>\n    <tr>\n      <th>20</th>\n      <td>31</td>\n      <td>223</td>\n    </tr>\n    <tr>\n      <th>21</th>\n      <td>32</td>\n      <td>227</td>\n    </tr>\n    <tr>\n      <th>24</th>\n      <td>33</td>\n      <td>201</td>\n    </tr>\n    <tr>\n      <th>25</th>\n      <td>34</td>\n      <td>202</td>\n    </tr>\n    <tr>\n      <th>26</th>\n      <td>35</td>\n      <td>201</td>\n    </tr>\n    <tr>\n      <th>27</th>\n      <td>36</td>\n      <td>147</td>\n    </tr>\n    <tr>\n      <th>28</th>\n      <td>37</td>\n      <td>184</td>\n    </tr>\n    <tr>\n      <th>29</th>\n      <td>38</td>\n      <td>160</td>\n    </tr>\n    <tr>\n      <th>30</th>\n      <td>39</td>\n      <td>137</td>\n    </tr>\n    <tr>\n      <th>31</th>\n      <td>40</td>\n      <td>122</td>\n    </tr>\n    <tr>\n      <th>32</th>\n      <td>41</td>\n      <td>88</td>\n    </tr>\n    <tr>\n      <th>33</th>\n      <td>42</td>\n      <td>100</td>\n    </tr>\n    <tr>\n      <th>34</th>\n      <td>43</td>\n      <td>82</td>\n    </tr>\n    <tr>\n      <th>35</th>\n      <td>44</td>\n      <td>68</td>\n    </tr>\n    <tr>\n      <th>36</th>\n      <td>45</td>\n      <td>74</td>\n    </tr>\n    <tr>\n      <th>37</th>\n      <td>46</td>\n      <td>58</td>\n    </tr>\n    <tr>\n      <th>38</th>\n      <td>47</td>\n      <td>38</td>\n    </tr>\n    <tr>\n      <th>39</th>\n      <td>48</td>\n      <td>29</td>\n    </tr>\n    <tr>\n      <th>40</th>\n      <td>49</td>\n      <td>36</td>\n    </tr>\n    <tr>\n      <th>42</th>\n      <td>50</td>\n      <td>30</td>\n    </tr>\n    <tr>\n      <th>43</th>\n      <td>51</td>\n      <td>22</td>\n    </tr>\n    <tr>\n      <th>44</th>\n      <td>52</td>\n      <td>17</td>\n    </tr>\n    <tr>\n      <th>45</th>\n      <td>53</td>\n      <td>15</td>\n    </tr>\n    <tr>\n      <th>46</th>\n      <td>54</td>\n      <td>17</td>\n    </tr>\n    <tr>\n      <th>47</th>\n      <td>55</td>\n      <td>22</td>\n    </tr>\n    <tr>\n      <th>48</th>\n      <td>56</td>\n      <td>13</td>\n    </tr>\n    <tr>\n      <th>49</th>\n      <td>57</td>\n      <td>14</td>\n    </tr>\n    <tr>\n      <th>50</th>\n      <td>58</td>\n      <td>5</td>\n    </tr>\n    <tr>\n      <th>51</th>\n      <td>59</td>\n      <td>6</td>\n    </tr>\n    <tr>\n      <th>52</th>\n      <td>60</td>\n      <td>5</td>\n    </tr>\n    <tr>\n      <th>53</th>\n      <td>61</td>\n      <td>7</td>\n    </tr>\n    <tr>\n      <th>54</th>\n      <td>62</td>\n      <td>3</td>\n    </tr>\n    <tr>\n      <th>55</th>\n      <td>63</td>\n      <td>5</td>\n    </tr>\n    <tr>\n      <th>56</th>\n      <td>64</td>\n      <td>3</td>\n    </tr>\n    <tr>\n      <th>57</th>\n      <td>65</td>\n      <td>3</td>\n    </tr>\n    <tr>\n      <th>58</th>\n      <td>66</td>\n      <td>2</td>\n    </tr>\n    <tr>\n      <th>59</th>\n      <td>67</td>\n      <td>2</td>\n    </tr>\n    <tr>\n      <th>60</th>\n      <td>70</td>\n      <td>1</td>\n    </tr>\n    <tr>\n      <th>61</th>\n      <td>72</td>\n      <td>1</td>\n    </tr>\n    <tr>\n      <th>62</th>\n      <td>74</td>\n      <td>1</td>\n    </tr>\n    <tr>\n      <th>64</th>\n      <td>99</td>\n      <td>1</td>\n    </tr>\n  </tbody>\n</table>\n</div>"
     },
     "execution_count": 94,
     "metadata": {},
     "output_type": "execute_result"
    }
   ],
   "source": [
    "question_1 = df_join[(df_join.questionid == 1)].sort_values(by='AnswerText', ascending=False).groupby('AnswerText')['SurveyID'].count().reset_index()\n",
    "question_1 = question_1.astype({'AnswerText': 'int32'})\n",
    "question_1 = question_1[ (question_1.AnswerText >= 18) & (question_1.AnswerText <= 100)]\n",
    "question_1"
   ],
   "metadata": {
    "collapsed": false,
    "pycharm": {
     "name": "#%%\n"
    }
   }
  },
  {
   "cell_type": "code",
   "execution_count": 95,
   "outputs": [
    {
     "data": {
      "text/plain": "<AxesSubplot: title={'center': 'Dist de edades'}, xlabel='Edades', ylabel='Cantidad de personas'>"
     },
     "execution_count": 95,
     "metadata": {},
     "output_type": "execute_result"
    },
    {
     "data": {
      "text/plain": "<Figure size 1500x800 with 1 Axes>",
      "image/png": "[encoded data removed]"
     },
     "metadata": {},
     "output_type": "display_data"
    }
   ],
   "source": [
    "question_1.plot.bar(x='AnswerText', y='SurveyID', xlabel='Edades', ylabel='Cantidad de personas', title='Dist de edades', figsize=(15,8))"
   ],
   "metadata": {
    "collapsed": false,
    "pycharm": {
     "name": "#%%\n"
    }
   }
  }
 ],
 "metadata": {
  "kernelspec": {
   "display_name": "Python 3",
   "language": "python",
   "name": "python3"
  },
  "language_info": {
   "codemirror_mode": {
    "name": "ipython",
    "version": 2
   },
   "file_extension": ".py",
   "mimetype": "text/x-python",
   "name": "python",
   "nbconvert_exporter": "python",
   "pygments_lexer": "ipython2",
   "version": "2.7.6"
  }
 },
 "nbformat": 4,
 "nbformat_minor": 0
}
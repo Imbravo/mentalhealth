{
 "cells": [
  {
   "cell_type": "code",
   "execution_count": 37,
   "metadata": {
    "collapsed": true,
    "pycharm": {
     "name": "#%%\n"
    }
   },
   "outputs": [],
   "source": [
    "import boto3\n",
    "import pandas as pd\n",
    "import numpy as np\n",
    "import io"
   ]
  },
  {
   "cell_type": "code",
   "execution_count": 38,
   "outputs": [
    {
     "name": "stdout",
     "output_type": "stream",
     "text": [
      "saludmental\n",
      "answer.csv\n",
      "question.csv\n",
      "survey.csv\n"
     ]
    }
   ],
   "source": [
    "client = boto3.client(\"s3\")\n",
    "s3 = boto3.resource('s3')\n",
    "path = 's3://saludmental/question.csv'\n",
    "\n",
    "for bucket in s3.buckets.all():\n",
    "    print(bucket.name)\n",
    "    my_bucket = s3.Bucket(bucket.name)\n",
    "    for file in my_bucket.objects.all():\n",
    "        print(file.key)"
   ],
   "metadata": {
    "collapsed": false,
    "pycharm": {
     "name": "#%%\n"
    }
   }
  },
  {
   "cell_type": "code",
   "execution_count": 44,
   "outputs": [
    {
     "name": "stdout",
     "output_type": "stream",
     "text": [
      "                                          questiontext  questionid\n",
      "0                                    What is your age?           1\n",
      "1                                 What is your gender?           2\n",
      "2                         What country do you live in?           3\n",
      "3    If you live in the United States, which state ...           4\n",
      "4                               Are you self-employed?           5\n",
      "..                                                 ...         ...\n",
      "100  Do you think that team members/co-workers woul...         114\n",
      "101  If yes, what condition(s) have you been diagno...         115\n",
      "102  If maybe, what condition(s) do you believe you...         116\n",
      "103  Which of the following best describes your wor...         117\n",
      "104                              Do you work remotely?         118\n",
      "\n",
      "[105 rows x 2 columns]\n"
     ]
    }
   ],
   "source": [
    "obj = client.get_object(Bucket='saludmental', Key='question.csv')\n",
    "response = obj['Body']\n",
    "question = pd.read_csv(response)\n",
    "print(question)"
   ],
   "metadata": {
    "collapsed": false,
    "pycharm": {
     "name": "#%%\n"
    }
   }
  },
  {
   "cell_type": "code",
   "execution_count": 45,
   "outputs": [
    {
     "name": "stdout",
     "output_type": "stream",
     "text": [
      "   SurveyID                    Description\n",
      "0      2014  mental health survey for 2014\n",
      "1      2016  mental health survey for 2016\n",
      "2      2017  mental health survey for 2017\n",
      "3      2018  mental health survey for 2018\n",
      "4      2019  mental health survey for 2019\n"
     ]
    }
   ],
   "source": [
    "obj = client.get_object(Bucket='saludmental', Key='survey.csv')\n",
    "response = obj['Body']\n",
    "survey = pd.read_csv(response)\n",
    "print(survey)"
   ],
   "metadata": {
    "collapsed": false,
    "pycharm": {
     "name": "#%%\n"
    }
   }
  },
  {
   "cell_type": "code",
   "execution_count": null,
   "outputs": [],
   "source": [],
   "metadata": {
    "collapsed": false,
    "pycharm": {
     "name": "#%%\n"
    }
   }
  }
 ],
 "metadata": {
  "kernelspec": {
   "display_name": "Python 3",
   "language": "python",
   "name": "python3"
  },
  "language_info": {
   "codemirror_mode": {
    "name": "ipython",
    "version": 2
   },
   "file_extension": ".py",
   "mimetype": "text/x-python",
   "name": "python",
   "nbconvert_exporter": "python",
   "pygments_lexer": "ipython2",
   "version": "2.7.6"
  }
 },
 "nbformat": 4,
 "nbformat_minor": 0
}